{
 "cells": [
  {
   "cell_type": "code",
   "execution_count": 43,
   "id": "02066d60",
   "metadata": {},
   "outputs": [
    {
     "name": "stdout",
     "output_type": "stream",
     "text": [
      "a = 10\n",
      "b = 10\n",
      "c = 12\n",
      "Area: 48.0\n"
     ]
    }
   ],
   "source": [
    "class poly:\n",
    "    def __init__(self,a,b,c):\n",
    "        self.a = float(a)\n",
    "        self.b = float(b)\n",
    "        self.c = float(c)\n",
    "a = int(input('a = '))\n",
    "b = int(input('b = '))\n",
    "c = int(input('c = '))\n",
    "\n",
    "class triangle(poly):\n",
    "    def __init__ (self, a,b,c,):\n",
    "        super().__init__(a,b,c)\n",
    "        \n",
    "    def get_area(self):\n",
    "        s = (a + b + c) / 2\n",
    "        return (s*(s-a)*(s-b)*(s-c)) ** 0.5    \n",
    "t = triangle(a,b,c)\n",
    "print('Area: {}'.format(t.get_area()))"
   ]
  },
  {
   "cell_type": "code",
   "execution_count": 59,
   "id": "a357cd9f",
   "metadata": {},
   "outputs": [
    {
     "name": "stdout",
     "output_type": "stream",
     "text": [
      "['Moustafa', 'SaintGerman', 'Barcelone']\n"
     ]
    }
   ],
   "source": [
    "def filter_list(input_list,int_num):\n",
    "    list_word = []\n",
    "    for i in range(len(input_list)):\n",
    "        if len(input_list[i]> int_num):\n",
    "            list_word.append(input_list[i])\n",
    "    return list_word\n",
    "list_word = ['Moustafa','Rashidy','France','SaintGerman','Barcelone']\n",
    "word_length = 7\n",
    "\n",
    "print (str(filter_long_words(list_word,word_length)))"
   ]
  },
  {
   "cell_type": "code",
   "execution_count": 68,
   "id": "ee8c8ed5",
   "metadata": {},
   "outputs": [
    {
     "name": "stdout",
     "output_type": "stream",
     "text": [
      "Enter Words: asdsd,asdasd,asdad\n",
      "Lent Of List  [5, 6, 5]\n"
     ]
    }
   ],
   "source": [
    "def map_list(List):\n",
    "    return list(map(len,List))\n",
    "\n",
    "word = list(input('Enter Words: ').split(','))\n",
    "List = [x.strip() for x in word]\n",
    "word_legnth = map_list(List)\n",
    "\n",
    "print('Lent Of List ',word_lenth)"
   ]
  },
  {
   "cell_type": "code",
   "execution_count": 77,
   "id": "450595a0",
   "metadata": {},
   "outputs": [
    {
     "name": "stdout",
     "output_type": "stream",
     "text": [
      "Enter A Char: b\n",
      "Output Value  False\n"
     ]
    }
   ],
   "source": [
    "def vowel_char(inputchar):\n",
    "    return_val = ''\n",
    "    \n",
    "    if (len(inputchar) == 1):\n",
    "        vowel_list =['a','i','o','e','u']\n",
    "        if (inputchar.lower() in vowel_list):\n",
    "            return_val = True\n",
    "        else: \n",
    "            return_val = False\n",
    "    else: \n",
    "        return_val = 'Please Enter A Single Char'\n",
    "        \n",
    "    return return_val\n",
    "\n",
    "input_value = input('Enter A Char: ')\n",
    "out_put = vowel_char(input_value)\n",
    "print('Output Value ',out_put)"
   ]
  },
  {
   "cell_type": "code",
   "execution_count": null,
   "id": "11447f87",
   "metadata": {},
   "outputs": [],
   "source": []
  }
 ],
 "metadata": {
  "kernelspec": {
   "display_name": "Python 3",
   "language": "python",
   "name": "python3"
  },
  "language_info": {
   "codemirror_mode": {
    "name": "ipython",
    "version": 3
   },
   "file_extension": ".py",
   "mimetype": "text/x-python",
   "name": "python",
   "nbconvert_exporter": "python",
   "pygments_lexer": "ipython3",
   "version": "3.8.8"
  }
 },
 "nbformat": 4,
 "nbformat_minor": 5
}
