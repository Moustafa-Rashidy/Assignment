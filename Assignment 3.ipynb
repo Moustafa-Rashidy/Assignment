{
 "cells": [
  {
   "cell_type": "code",
   "execution_count": 16,
   "id": "9b6cbf26",
   "metadata": {},
   "outputs": [
    {
     "name": "stdout",
     "output_type": "stream",
     "text": [
      "Enter Number: 15\n",
      "List Are:  [1, 2, 3, 4, 5, 6, 7, 8, 9, 10, 11, 12, 13, 14, 15]\n",
      "Summetion Is:  120\n"
     ]
    }
   ],
   "source": [
    "def my_reduce(num):\n",
    "    l_num = list(range(1,number+1))\n",
    "    sum = 0\n",
    "    for i in l_num:\n",
    "        sum += i\n",
    "    return l_num, sum\n",
    "\n",
    "number = int(input('Enter Number: '))\n",
    "out_put = my_reduce(number)\n",
    "print('List Are: ',out_put[0])\n",
    "print('Summetion Is: ',out_put[1])"
   ]
  },
  {
   "cell_type": "code",
   "execution_count": 20,
   "id": "8b3ab17a",
   "metadata": {},
   "outputs": [
    {
     "name": "stdout",
     "output_type": "stream",
     "text": [
      "Enter Numebr: 50\n",
      "Oddo List:  [2, 4, 6, 8, 10, 12, 14, 16, 18, 20, 22, 24, 26, 28, 30, 32, 34, 36, 38, 40, 42, 44, 46, 48, 50]\n",
      "Even List:  [1, 3, 5, 7, 9, 11, 13, 15, 17, 19, 21, 23, 25, 27, 29, 31, 33, 35, 37, 39, 41, 43, 45, 47, 49]\n"
     ]
    }
   ],
   "source": [
    "def filter_func(num):\n",
    "    l_num = list(range(1,number+1))\n",
    "    odd_list = []\n",
    "    even_list = []\n",
    "    for i in l_num:\n",
    "        if i%2 ==0:\n",
    "            odd_list.append(i)\n",
    "        else:\n",
    "            even_list.append(i)\n",
    "    return odd_list, even_list\n",
    "\n",
    "number = int(input('Enter Numebr: '))\n",
    "out_put = filter_func(number)\n",
    "\n",
    "print('Oddo List: ',out_put[0])\n",
    "print('Even List: ',out_put[1])"
   ]
  },
  {
   "cell_type": "code",
   "execution_count": 26,
   "id": "25d1c12d",
   "metadata": {},
   "outputs": [
    {
     "data": {
      "text/plain": [
       "['x', 'xx', 'xxx', 'xxxx', 'y', 'yy', 'yyy', 'yyyy', 'z', 'zz', 'zzz', 'zzzz']"
      ]
     },
     "execution_count": 26,
     "metadata": {},
     "output_type": "execute_result"
    }
   ],
   "source": [
    "word = ('xyz')\n",
    "word1 = [x*n for x in word for n in range(1,5)]\n",
    "word1"
   ]
  },
  {
   "cell_type": "code",
   "execution_count": 29,
   "id": "9c76aed1",
   "metadata": {},
   "outputs": [
    {
     "data": {
      "text/plain": [
       "['x', 'y', 'z', 'xx', 'yy', 'zz', 'xxx', 'yyy', 'zzz', 'xxxx', 'yyyy', 'zzzz']"
      ]
     },
     "execution_count": 29,
     "metadata": {},
     "output_type": "execute_result"
    }
   ],
   "source": [
    "word2 = [x*n for n in range(1,5) for x in word]\n",
    "word2"
   ]
  },
  {
   "cell_type": "code",
   "execution_count": 32,
   "id": "80ee7f34",
   "metadata": {},
   "outputs": [
    {
     "name": "stdout",
     "output_type": "stream",
     "text": [
      "[[2], [3], [4], [3], [4], [5], [4], [5], [6]]\n"
     ]
    }
   ],
   "source": [
    "number=[2,3,4]\n",
    "number_1=[[x+n] for x in number for n in range(0,3)]\n",
    "print(number_1)\n"
   ]
  },
  {
   "cell_type": "code",
   "execution_count": 34,
   "id": "9c30c34d",
   "metadata": {},
   "outputs": [
    {
     "data": {
      "text/plain": [
       "[(1, 1), (1, 2), (1, 3), (2, 1), (2, 2), (2, 3), (3, 1), (3, 2), (3, 3)]"
      ]
     },
     "execution_count": 34,
     "metadata": {},
     "output_type": "execute_result"
    }
   ],
   "source": [
    "num = [1,2,3]\n",
    "number = [(a,b) for a in num for b in num]\n",
    "number"
   ]
  },
  {
   "cell_type": "code",
   "execution_count": null,
   "id": "56c78561",
   "metadata": {},
   "outputs": [],
   "source": []
  }
 ],
 "metadata": {
  "kernelspec": {
   "display_name": "Python 3",
   "language": "python",
   "name": "python3"
  },
  "language_info": {
   "codemirror_mode": {
    "name": "ipython",
    "version": 3
   },
   "file_extension": ".py",
   "mimetype": "text/x-python",
   "name": "python",
   "nbconvert_exporter": "python",
   "pygments_lexer": "ipython3",
   "version": "3.8.8"
  }
 },
 "nbformat": 4,
 "nbformat_minor": 5
}
