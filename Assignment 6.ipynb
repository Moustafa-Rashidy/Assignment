{
 "cells": [
  {
   "cell_type": "code",
   "execution_count": 30,
   "id": "f17e57e0",
   "metadata": {},
   "outputs": [],
   "source": [
    "import numpy as np"
   ]
  },
  {
   "cell_type": "code",
   "execution_count": 31,
   "id": "5fb31fb4",
   "metadata": {},
   "outputs": [],
   "source": [
    "x=np.array([1,2,3,4,5])\n",
    "N=5 \n",
    "matrix = np.column_stack([x**(N-i-1) for i in range(N)])"
   ]
  },
  {
   "cell_type": "code",
   "execution_count": 33,
   "id": "f36558f8",
   "metadata": {},
   "outputs": [
    {
     "name": "stdout",
     "output_type": "stream",
     "text": [
      "[[  1   1   1   1   1]\n",
      " [ 16   8   4   2   1]\n",
      " [ 81  27   9   3   1]\n",
      " [256  64  16   4   1]\n",
      " [625 125  25   5   1]]\n"
     ]
    }
   ],
   "source": [
    "print(matrix) "
   ]
  },
  {
   "cell_type": "code",
   "execution_count": 36,
   "id": "f701133d",
   "metadata": {},
   "outputs": [
    {
     "data": {
      "text/plain": [
       "287.9999999999967"
      ]
     },
     "execution_count": 36,
     "metadata": {},
     "output_type": "execute_result"
    }
   ],
   "source": [
    "np.linalg.det(matrix)"
   ]
  },
  {
   "cell_type": "code",
   "execution_count": 34,
   "id": "26fa8da1",
   "metadata": {},
   "outputs": [],
   "source": [
    "x=np.array([1,2,3,4,5]) \n",
    "N=5 \n",
    "matrix1 = np.vander(x,N,increasing=False)"
   ]
  },
  {
   "cell_type": "code",
   "execution_count": 35,
   "id": "671a912a",
   "metadata": {},
   "outputs": [
    {
     "name": "stdout",
     "output_type": "stream",
     "text": [
      "[[  1   1   1   1   1]\n",
      " [ 16   8   4   2   1]\n",
      " [ 81  27   9   3   1]\n",
      " [256  64  16   4   1]\n",
      " [625 125  25   5   1]]\n"
     ]
    }
   ],
   "source": [
    "print(matrix1)"
   ]
  },
  {
   "cell_type": "code",
   "execution_count": 37,
   "id": "f60cd3ac",
   "metadata": {},
   "outputs": [
    {
     "data": {
      "text/plain": [
       "287.9999999999967"
      ]
     },
     "execution_count": 37,
     "metadata": {},
     "output_type": "execute_result"
    }
   ],
   "source": [
    "np.linalg.det(matrix1)"
   ]
  },
  {
   "cell_type": "code",
   "execution_count": null,
   "id": "f09dc415",
   "metadata": {},
   "outputs": [],
   "source": []
  }
 ],
 "metadata": {
  "kernelspec": {
   "display_name": "Python 3",
   "language": "python",
   "name": "python3"
  },
  "language_info": {
   "codemirror_mode": {
    "name": "ipython",
    "version": 3
   },
   "file_extension": ".py",
   "mimetype": "text/x-python",
   "name": "python",
   "nbconvert_exporter": "python",
   "pygments_lexer": "ipython3",
   "version": "3.8.8"
  }
 },
 "nbformat": 4,
 "nbformat_minor": 5
}
